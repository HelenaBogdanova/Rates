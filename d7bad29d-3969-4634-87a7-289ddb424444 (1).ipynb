{
 "cells": [
  {
   "cell_type": "markdown",
   "metadata": {},
   "source": [
    "# Рекомендация тарифов"
   ]
  },
  {
   "cell_type": "markdown",
   "metadata": {},
   "source": [
    "В вашем распоряжении данные о поведении клиентов, которые уже перешли на эти тарифы (из проекта курса «Статистический анализ данных»). Нужно построить модель для задачи классификации, которая выберет подходящий тариф. Предобработка данных не понадобится — вы её уже сделали.\n",
    "\n",
    "Постройте модель с максимально большим значением *accuracy*. Чтобы сдать проект успешно, нужно довести долю правильных ответов по крайней мере до 0.75. Проверьте *accuracy* на тестовой выборке самостоятельно."
   ]
  },
  {
   "cell_type": "markdown",
   "metadata": {},
   "source": [
    "## Откройте и изучите файл"
   ]
  },
  {
   "cell_type": "markdown",
   "metadata": {},
   "source": [
    "Импортируем необходимые библиотеки (в ходе проекта список будет пополняться):"
   ]
  },
  {
   "cell_type": "code",
   "execution_count": 1,
   "metadata": {},
   "outputs": [],
   "source": [
    "import pandas as pd\n",
    "#для деления на обучающую и тестовую выборки\n",
    "from sklearn.model_selection import train_test_split \n",
    "#для метрики качества\n",
    "from sklearn.metrics import accuracy_score\n",
    "#для модели \"Дерево решений\"\n",
    "from sklearn.tree import DecisionTreeClassifier\n",
    "#для модели \"Случайный лес\"\n",
    "from sklearn.ensemble import RandomForestClassifier \n",
    "#для модели \"Логистическая регрессия\"\n",
    "from sklearn.linear_model import LogisticRegression\n",
    "#для среднеквадратичной ошибки\n",
    "import sklearn.metrics\n",
    "import matplotlib.pyplot as plt\n",
    "import seaborn\n",
    "import numpy as np\n",
    "from sklearn.metrics import confusion_matrix\n",
    "\n"
   ]
  },
  {
   "cell_type": "markdown",
   "metadata": {},
   "source": [
    "Откроем файл:"
   ]
  },
  {
   "cell_type": "code",
   "execution_count": 2,
   "metadata": {},
   "outputs": [],
   "source": [
    "df = pd.read_csv('/datasets/users_behavior.csv')"
   ]
  },
  {
   "cell_type": "markdown",
   "metadata": {},
   "source": [
    "Изучим данные:"
   ]
  },
  {
   "cell_type": "code",
   "execution_count": 3,
   "metadata": {},
   "outputs": [
    {
     "data": {
      "text/html": [
       "<div>\n",
       "<style scoped>\n",
       "    .dataframe tbody tr th:only-of-type {\n",
       "        vertical-align: middle;\n",
       "    }\n",
       "\n",
       "    .dataframe tbody tr th {\n",
       "        vertical-align: top;\n",
       "    }\n",
       "\n",
       "    .dataframe thead th {\n",
       "        text-align: right;\n",
       "    }\n",
       "</style>\n",
       "<table border=\"1\" class=\"dataframe\">\n",
       "  <thead>\n",
       "    <tr style=\"text-align: right;\">\n",
       "      <th></th>\n",
       "      <th>calls</th>\n",
       "      <th>minutes</th>\n",
       "      <th>messages</th>\n",
       "      <th>mb_used</th>\n",
       "      <th>is_ultra</th>\n",
       "    </tr>\n",
       "  </thead>\n",
       "  <tbody>\n",
       "    <tr>\n",
       "      <th>0</th>\n",
       "      <td>40.0</td>\n",
       "      <td>311.90</td>\n",
       "      <td>83.0</td>\n",
       "      <td>19915.42</td>\n",
       "      <td>0</td>\n",
       "    </tr>\n",
       "    <tr>\n",
       "      <th>1</th>\n",
       "      <td>85.0</td>\n",
       "      <td>516.75</td>\n",
       "      <td>56.0</td>\n",
       "      <td>22696.96</td>\n",
       "      <td>0</td>\n",
       "    </tr>\n",
       "    <tr>\n",
       "      <th>2</th>\n",
       "      <td>77.0</td>\n",
       "      <td>467.66</td>\n",
       "      <td>86.0</td>\n",
       "      <td>21060.45</td>\n",
       "      <td>0</td>\n",
       "    </tr>\n",
       "    <tr>\n",
       "      <th>3</th>\n",
       "      <td>106.0</td>\n",
       "      <td>745.53</td>\n",
       "      <td>81.0</td>\n",
       "      <td>8437.39</td>\n",
       "      <td>1</td>\n",
       "    </tr>\n",
       "    <tr>\n",
       "      <th>4</th>\n",
       "      <td>66.0</td>\n",
       "      <td>418.74</td>\n",
       "      <td>1.0</td>\n",
       "      <td>14502.75</td>\n",
       "      <td>0</td>\n",
       "    </tr>\n",
       "  </tbody>\n",
       "</table>\n",
       "</div>"
      ],
      "text/plain": [
       "   calls  minutes  messages   mb_used  is_ultra\n",
       "0   40.0   311.90      83.0  19915.42         0\n",
       "1   85.0   516.75      56.0  22696.96         0\n",
       "2   77.0   467.66      86.0  21060.45         0\n",
       "3  106.0   745.53      81.0   8437.39         1\n",
       "4   66.0   418.74       1.0  14502.75         0"
      ]
     },
     "execution_count": 3,
     "metadata": {},
     "output_type": "execute_result"
    }
   ],
   "source": [
    "#выведем первые пять строк на экран\n",
    "df.head()"
   ]
  },
  {
   "cell_type": "code",
   "execution_count": 4,
   "metadata": {},
   "outputs": [
    {
     "name": "stdout",
     "output_type": "stream",
     "text": [
      "<class 'pandas.core.frame.DataFrame'>\n",
      "RangeIndex: 3214 entries, 0 to 3213\n",
      "Data columns (total 5 columns):\n",
      " #   Column    Non-Null Count  Dtype  \n",
      "---  ------    --------------  -----  \n",
      " 0   calls     3214 non-null   float64\n",
      " 1   minutes   3214 non-null   float64\n",
      " 2   messages  3214 non-null   float64\n",
      " 3   mb_used   3214 non-null   float64\n",
      " 4   is_ultra  3214 non-null   int64  \n",
      "dtypes: float64(4), int64(1)\n",
      "memory usage: 125.7 KB\n"
     ]
    }
   ],
   "source": [
    "#изучим информацию\n",
    "df.info()"
   ]
  },
  {
   "cell_type": "markdown",
   "metadata": {},
   "source": [
    "**Вывод:** Согласно описанию проекта данные уже предобработаны, из анализа информации по дата фрейму с данными все в порядке. Единственное, можно было бы перевести данные о количестве звонков и sms-сообщений в целочисленный тип, но это не повлияет на последующие этапы, поэтому оставим так, как есть."
   ]
  },
  {
   "cell_type": "markdown",
   "metadata": {},
   "source": [
    "## Разбейте данные на выборки"
   ]
  },
  {
   "cell_type": "markdown",
   "metadata": {},
   "source": [
    "Разделим исходные данные на обучающую, валидационную и тестовую выборки. Размеры тестового и валидационного наборов обычно равны. Исходные данные разобъем в соотношении 3:1:1. \n",
    "\n",
    "Выполним извлечение признаков и целевых признаков:"
   ]
  },
  {
   "cell_type": "code",
   "execution_count": 5,
   "metadata": {},
   "outputs": [],
   "source": [
    "#извлекаем признаки\n",
    "features = df.drop(['is_ultra'], axis=1)\n",
    "#извлекаем целевые признаки\n",
    "target = df['is_ultra']"
   ]
  },
  {
   "cell_type": "markdown",
   "metadata": {},
   "source": [
    "Обучающая выборка:"
   ]
  },
  {
   "cell_type": "code",
   "execution_count": 6,
   "metadata": {},
   "outputs": [],
   "source": [
    "#оставляем 25% на тестовую и валидационную выборки\n",
    "df_train, df_test_valid = train_test_split(df, test_size=.25, random_state=12345)\n",
    "#распределяем данные на тестовую и валидационную выборки в соотношении 1:1\n",
    "df_test, df_valid = train_test_split(df_test_valid, test_size=.5, random_state=12345)"
   ]
  },
  {
   "cell_type": "markdown",
   "metadata": {},
   "source": [
    "Проверим размеры выборок:"
   ]
  },
  {
   "cell_type": "code",
   "execution_count": 7,
   "metadata": {},
   "outputs": [
    {
     "name": "stdout",
     "output_type": "stream",
     "text": [
      "Размер обучающей выборки: 2410\n",
      "Размер валидационной выборки: 402\n",
      "Размер тестовой выборки: 402\n"
     ]
    }
   ],
   "source": [
    "print('Размер обучающей выборки:', len(df_train))\n",
    "print('Размер валидационной выборки:',len(df_valid))\n",
    "print('Размер тестовой выборки:',len(df_test))"
   ]
  },
  {
   "cell_type": "markdown",
   "metadata": {},
   "source": [
    "## Исследуйте модели"
   ]
  },
  {
   "cell_type": "markdown",
   "metadata": {},
   "source": [
    "Выполним извлечение признаков из обучающей выборки:"
   ]
  },
  {
   "cell_type": "code",
   "execution_count": 8,
   "metadata": {},
   "outputs": [],
   "source": [
    "features_train=df_train.drop(['is_ultra'],axis=1)\n",
    "target_train=df_train['is_ultra']"
   ]
  },
  {
   "cell_type": "markdown",
   "metadata": {},
   "source": [
    "Выполним извлечение признаков из валидационной выборки:"
   ]
  },
  {
   "cell_type": "code",
   "execution_count": 9,
   "metadata": {},
   "outputs": [],
   "source": [
    "features_valid=df_valid.drop(['is_ultra'],axis=1)\n",
    "target_valid=df_valid['is_ultra']"
   ]
  },
  {
   "cell_type": "markdown",
   "metadata": {},
   "source": [
    "Выполним извлечение признаков из тестовой выборки:"
   ]
  },
  {
   "cell_type": "code",
   "execution_count": 10,
   "metadata": {},
   "outputs": [],
   "source": [
    "features_test=df_valid.drop(['is_ultra'],axis=1)\n",
    "target_test=df_valid['is_ultra']"
   ]
  },
  {
   "cell_type": "markdown",
   "metadata": {},
   "source": [
    "Исследуем три модели: \"Дерево решений\", \"Случайный лес\", \"Логистическая регрессия\".\n",
    "\n",
    "**\"Дерево решений\"**\n",
    "\n",
    "Определим при какой максимальной глубине качество модели будет наилучшим. Возьмем интервал глубины от 1 до 20:"
   ]
  },
  {
   "cell_type": "code",
   "execution_count": 11,
   "metadata": {},
   "outputs": [
    {
     "name": "stdout",
     "output_type": "stream",
     "text": [
      "Наилучший Accuracy: 0.8009950248756219 Глубина дерева: 8 Функция для измерения качества раскола: entropy Минимальное количество образцов: 10\n"
     ]
    },
    {
     "data": {
      "image/png": "[encoded data removed]",
      "text/plain": [
       "<Figure size 1440x720 with 1 Axes>"
      ]
     },
     "metadata": {
      "needs_background": "light"
     },
     "output_type": "display_data"
    }
   ],
   "source": [
    "best_result_tree = 0\n",
    "accurasy_tree = {}\n",
    "for depth in range(1,21):\n",
    "    for criterion in ['gini', 'entropy']:\n",
    "        for leaf in range(1,11):\n",
    "            model_tree=DecisionTreeClassifier(random_state=12345, max_depth=depth, criterion = criterion, min_samples_leaf=leaf) # присваиваем модели имя\n",
    "            model_tree.fit(features_train,target_train) # обучаем\n",
    "            prediction_tree=model_tree.predict(features_valid) # проверяем\n",
    "            result_tree = accuracy_score(prediction_tree,target_valid)\n",
    "            accurasy_tree [depth, leaf, criterion] = result_tree\n",
    "            if result_tree > best_result_tree:\n",
    "                best_result_tree = result_tree\n",
    "                best_depth_tree = depth\n",
    "                best_criterion_tree = criterion\n",
    "                best_leaf_tree = leaf\n",
    "                \n",
    "print('Наилучший Accuracy:', best_result_tree, 'Глубина дерева:', best_depth_tree, 'Функция для измерения качества раскола:', criterion, 'Минимальное количество образцов:', leaf)\n",
    "pd.Series(accurasy_tree).plot.bar(ylim=(0.7,0.83),figsize=(20,10))\n",
    "plt.xticks(np.arange(0,400,7))\n",
    "plt.title('Перебор параметров Accuracy')\n",
    "plt.xlabel('Параметры')\n",
    "plt.ylabel('Accuracy');"
   ]
  },
  {
   "cell_type": "markdown",
   "metadata": {},
   "source": [
    "**\"Случайный лес\"**\n",
    "\n",
    "Определим при какой максимальной глубине и количестве деревьев качество модели будет наилучшим. Возьмем интервал глубины и количества деревьев от 1 до 20:"
   ]
  },
  {
   "cell_type": "code",
   "execution_count": 12,
   "metadata": {},
   "outputs": [
    {
     "name": "stdout",
     "output_type": "stream",
     "text": [
      "Наилучший Accuracy: 0.818407960199005 Максимальная глубина: 8 Количество деревьев: 14 Функция для измерения качества раскола: entropy Минимальное количество образцов: 10\n"
     ]
    }
   ],
   "source": [
    "accurasy_forrest = {}\n",
    "best_est_forrest = 0\n",
    "best_depth_forrest = 0\n",
    "best_result_forrest = 0\n",
    "for est in range(1, 21):\n",
    "    for depth in range(1, 21):\n",
    "        for criterion in ['gini', 'entropy']:\n",
    "            for leaf in range(1,11):\n",
    "                model_forrest = RandomForestClassifier(random_state=12345, n_estimators=est, max_depth = depth, criterion = criterion, min_samples_leaf=leaf)\n",
    "                model_forrest.fit(features_train, target_train)\n",
    "                predictions_forrest = model_forrest.predict(features_valid)\n",
    "                result_forrest = accuracy_score(predictions_forrest, target_valid)\n",
    "                accurasy_forrest [est, depth, criterion, leaf] = result_forrest\n",
    "                if best_result_forrest < result_forrest:\n",
    "                    best_est_forrest = est\n",
    "                    best_depth_forrest = depth\n",
    "                    best_result_forrest = result_forrest\n",
    "            \n",
    "print('Наилучший Accuracy:', best_result_forrest, 'Максимальная глубина:', best_depth_forrest, 'Количество деревьев:', best_est_forrest, 'Функция для измерения качества раскола:', criterion, 'Минимальное количество образцов:', leaf)            \n"
   ]
  },
  {
   "cell_type": "code",
   "execution_count": 13,
   "metadata": {},
   "outputs": [
    {
     "data": {
      "image/png": "[encoded data removed]",
      "text/plain": [
       "<Figure size 1440x720 with 1 Axes>"
      ]
     },
     "metadata": {
      "needs_background": "light"
     },
     "output_type": "display_data"
    }
   ],
   "source": [
    "pd.Series(accurasy_forrest).plot.bar(ylim=(0.7,0.83),figsize=(20,10))\n",
    "plt.xticks(np.arange(0,8000,100))\n",
    "plt.title('Перебор параметров Accuracy')\n",
    "plt.xlabel('Параметры')\n",
    "plt.ylabel('Accuracy');"
   ]
  },
  {
   "cell_type": "markdown",
   "metadata": {},
   "source": [
    "**\"Логистическая регрессия\"**"
   ]
  },
  {
   "cell_type": "code",
   "execution_count": 14,
   "metadata": {},
   "outputs": [
    {
     "name": "stdout",
     "output_type": "stream",
     "text": [
      "Accuracy: 0.7039800995024875\n"
     ]
    }
   ],
   "source": [
    "model_log_reg = LogisticRegression(max_iter=1000, solver='lbfgs', random_state=12345) \n",
    "model_log_reg.fit(features_train,target_train) \n",
    "predict_log_reg = model_log_reg.predict(features_valid)\n",
    "result_log = accuracy_score(predict_log_reg,target_valid)\n",
    "print('Accuracy:',result_log)"
   ]
  },
  {
   "cell_type": "markdown",
   "metadata": {},
   "source": [
    "**Вывод:** Согласно значениям Accuracy наилучшей моделью является модель \"Случайный лес\", наименее эффективной является \"Логистическая регрессия\"."
   ]
  },
  {
   "cell_type": "code",
   "execution_count": null,
   "metadata": {},
   "outputs": [],
   "source": [
    "<div class=\"alert-success\"> \n",
    "<b>Комментарий ревьюера 👍 Вторая итерация </b>\n",
    "\n",
    "Все здорово!"
   ]
  },
  {
   "cell_type": "markdown",
   "metadata": {},
   "source": [
    "## Проверьте модель на тестовой выборке"
   ]
  },
  {
   "cell_type": "markdown",
   "metadata": {},
   "source": [
    "Самой качественной моделью согласно анализу является модель \"Случайный лес\". Проверим данную модель на тестовой выборке."
   ]
  },
  {
   "cell_type": "code",
   "execution_count": 15,
   "metadata": {},
   "outputs": [
    {
     "name": "stdout",
     "output_type": "stream",
     "text": [
      "Test Accuracy: 0.8059701492537313\n"
     ]
    }
   ],
   "source": [
    "model_forrest_test=RandomForestClassifier(random_state=12345, n_estimators = 14, max_depth = 8, criterion = 'entropy', min_samples_leaf=10)\n",
    "model_forrest_test.fit(features_train,target_train)\n",
    "prediction_forrest_test=model_forrest_test.predict(features_test)\n",
    "print('Test Accuracy:',accuracy_score(prediction_forrest_test,target_test))"
   ]
  },
  {
   "cell_type": "markdown",
   "metadata": {},
   "source": [
    "Сравним метрики качества тестовой и валидационной модели:"
   ]
  },
  {
   "cell_type": "code",
   "execution_count": 16,
   "metadata": {},
   "outputs": [
    {
     "name": "stdout",
     "output_type": "stream",
     "text": [
      "Метрика качества валидационной модели: 0.818407960199005\n",
      "Метрика качества тестовой модели: 0.8059701492537313\n"
     ]
    }
   ],
   "source": [
    "print('Метрика качества валидационной модели:', best_result_forrest)\n",
    "print('Метрика качества тестовой модели:', accuracy_score(prediction_forrest_test,target_test))"
   ]
  },
  {
   "cell_type": "markdown",
   "metadata": {},
   "source": [
    "**Вывод:** Метрика качества тестовой модели больше 0,75 и близка к значению метрики на валидационной модели."
   ]
  },
  {
   "cell_type": "markdown",
   "metadata": {},
   "source": [
    "## (бонус) Проверьте модели на адекватность"
   ]
  },
  {
   "cell_type": "markdown",
   "metadata": {},
   "source": [
    "Для проверки на адекватность составим матричное представление о количестве ложно- и истино- положительных и отрицательных результатах. Для проверки будем использовать матрицу ошибок."
   ]
  },
  {
   "cell_type": "code",
   "execution_count": 17,
   "metadata": {},
   "outputs": [
    {
     "data": {
      "text/plain": [
       "array([[261,  58],\n",
       "       [ 22,  61]])"
      ]
     },
     "execution_count": 17,
     "metadata": {},
     "output_type": "execute_result"
    }
   ],
   "source": [
    "confusion_matrix(predictions_forrest, target_valid)"
   ]
  },
  {
   "cell_type": "markdown",
   "metadata": {},
   "source": [
    "**Вывод:** Согласно матрице ошибок у нас 261 - истиноположительный результат, 61 - истиноотрицательный, 22 - ложноположительных и 58 - ложноотрицательных. Истинных значений у нас 261+61=322, это составляет 322/402 * 100% = 80,1% от общего числа значений. Модель адекватна."
   ]
  }
 ],
 "metadata": {
  "ExecuteTimeLog": [
   {
    "duration": 53,
    "start_time": "2023-04-13T06:24:28.292Z"
   },
   {
    "duration": 432,
    "start_time": "2023-04-13T06:24:31.663Z"
   },
   {
    "duration": 132,
    "start_time": "2023-04-13T06:24:32.670Z"
   },
   {
    "duration": 14,
    "start_time": "2023-04-13T06:25:00.557Z"
   },
   {
    "duration": 17,
    "start_time": "2023-04-13T06:25:08.322Z"
   },
   {
    "duration": 11,
    "start_time": "2023-04-13T06:25:45.261Z"
   },
   {
    "duration": 4,
    "start_time": "2023-04-13T06:53:54.145Z"
   },
   {
    "duration": 46,
    "start_time": "2023-04-13T06:53:56.211Z"
   },
   {
    "duration": 899,
    "start_time": "2023-04-13T06:54:02.946Z"
   },
   {
    "duration": 10,
    "start_time": "2023-04-13T06:54:05.344Z"
   },
   {
    "duration": 4,
    "start_time": "2023-04-13T06:55:32.811Z"
   },
   {
    "duration": 5,
    "start_time": "2023-04-13T07:34:44.263Z"
   },
   {
    "duration": 6,
    "start_time": "2023-04-13T07:34:44.928Z"
   },
   {
    "duration": 5,
    "start_time": "2023-04-13T07:34:45.876Z"
   },
   {
    "duration": 61,
    "start_time": "2023-04-13T07:52:26.681Z"
   },
   {
    "duration": 45,
    "start_time": "2023-04-13T07:52:32.702Z"
   },
   {
    "duration": 1373,
    "start_time": "2023-04-13T07:52:39.117Z"
   },
   {
    "duration": 31,
    "start_time": "2023-04-13T07:52:40.492Z"
   },
   {
    "duration": 19,
    "start_time": "2023-04-13T07:52:40.525Z"
   },
   {
    "duration": 21,
    "start_time": "2023-04-13T07:52:40.546Z"
   },
   {
    "duration": 8,
    "start_time": "2023-04-13T07:52:40.570Z"
   },
   {
    "duration": 22,
    "start_time": "2023-04-13T07:52:40.580Z"
   },
   {
    "duration": 24,
    "start_time": "2023-04-13T07:52:40.604Z"
   },
   {
    "duration": 21,
    "start_time": "2023-04-13T07:52:40.630Z"
   },
   {
    "duration": 14,
    "start_time": "2023-04-13T07:52:40.653Z"
   },
   {
    "duration": 12,
    "start_time": "2023-04-13T07:52:40.669Z"
   },
   {
    "duration": 117,
    "start_time": "2023-04-13T07:52:40.683Z"
   },
   {
    "duration": 16,
    "start_time": "2023-04-13T07:53:34.810Z"
   },
   {
    "duration": 1230,
    "start_time": "2023-04-13T07:53:48.186Z"
   },
   {
    "duration": 32,
    "start_time": "2023-04-13T07:53:49.418Z"
   },
   {
    "duration": 22,
    "start_time": "2023-04-13T07:53:49.452Z"
   },
   {
    "duration": 14,
    "start_time": "2023-04-13T07:53:49.477Z"
   },
   {
    "duration": 8,
    "start_time": "2023-04-13T07:53:49.494Z"
   },
   {
    "duration": 13,
    "start_time": "2023-04-13T07:53:49.504Z"
   },
   {
    "duration": 14,
    "start_time": "2023-04-13T07:53:49.519Z"
   },
   {
    "duration": 13,
    "start_time": "2023-04-13T07:53:49.535Z"
   },
   {
    "duration": 12,
    "start_time": "2023-04-13T07:53:49.550Z"
   },
   {
    "duration": 10,
    "start_time": "2023-04-13T07:53:49.564Z"
   },
   {
    "duration": 130,
    "start_time": "2023-04-13T07:53:49.576Z"
   },
   {
    "duration": 11,
    "start_time": "2023-04-13T07:54:21.910Z"
   },
   {
    "duration": 15,
    "start_time": "2023-04-13T07:54:39.519Z"
   },
   {
    "duration": 21,
    "start_time": "2023-04-13T07:54:51.418Z"
   },
   {
    "duration": 25,
    "start_time": "2023-04-13T07:55:28.571Z"
   },
   {
    "duration": 28,
    "start_time": "2023-04-13T07:55:51.653Z"
   },
   {
    "duration": 16,
    "start_time": "2023-04-13T07:56:35.250Z"
   },
   {
    "duration": 29,
    "start_time": "2023-04-13T07:56:44.747Z"
   },
   {
    "duration": 27,
    "start_time": "2023-04-13T07:57:45.904Z"
   },
   {
    "duration": 15,
    "start_time": "2023-04-13T07:58:25.511Z"
   },
   {
    "duration": 4,
    "start_time": "2023-04-13T07:58:52.044Z"
   },
   {
    "duration": 1491,
    "start_time": "2023-04-13T07:58:56.378Z"
   },
   {
    "duration": 34,
    "start_time": "2023-04-13T07:58:57.873Z"
   },
   {
    "duration": 19,
    "start_time": "2023-04-13T07:58:57.909Z"
   },
   {
    "duration": 19,
    "start_time": "2023-04-13T07:58:57.930Z"
   },
   {
    "duration": 5,
    "start_time": "2023-04-13T07:58:57.953Z"
   },
   {
    "duration": 14,
    "start_time": "2023-04-13T07:58:57.960Z"
   },
   {
    "duration": 9,
    "start_time": "2023-04-13T07:58:57.977Z"
   },
   {
    "duration": 12,
    "start_time": "2023-04-13T07:58:57.988Z"
   },
   {
    "duration": 21,
    "start_time": "2023-04-13T07:58:58.002Z"
   },
   {
    "duration": 10,
    "start_time": "2023-04-13T07:58:58.025Z"
   },
   {
    "duration": 139,
    "start_time": "2023-04-13T07:58:58.037Z"
   },
   {
    "duration": 105,
    "start_time": "2023-04-13T07:59:04.914Z"
   },
   {
    "duration": 117,
    "start_time": "2023-04-13T07:59:25.822Z"
   },
   {
    "duration": 113,
    "start_time": "2023-04-13T07:59:39.454Z"
   },
   {
    "duration": 109,
    "start_time": "2023-04-13T08:00:07.018Z"
   },
   {
    "duration": 104,
    "start_time": "2023-04-13T08:02:40.915Z"
   },
   {
    "duration": 100,
    "start_time": "2023-04-13T08:03:05.667Z"
   },
   {
    "duration": 109,
    "start_time": "2023-04-13T08:04:07.940Z"
   },
   {
    "duration": 89,
    "start_time": "2023-04-13T08:04:14.459Z"
   },
   {
    "duration": 104,
    "start_time": "2023-04-13T08:04:38.019Z"
   },
   {
    "duration": 89,
    "start_time": "2023-04-13T08:04:44.332Z"
   },
   {
    "duration": 88,
    "start_time": "2023-04-13T08:04:52.523Z"
   },
   {
    "duration": 94,
    "start_time": "2023-04-13T08:06:19.062Z"
   },
   {
    "duration": 217,
    "start_time": "2023-04-13T08:07:08.734Z"
   },
   {
    "duration": 14,
    "start_time": "2023-04-13T08:10:01.859Z"
   },
   {
    "duration": 1333,
    "start_time": "2023-04-13T08:12:23.149Z"
   },
   {
    "duration": 1334,
    "start_time": "2023-04-13T08:12:43.234Z"
   },
   {
    "duration": 22,
    "start_time": "2023-04-13T08:13:01.933Z"
   },
   {
    "duration": 28,
    "start_time": "2023-04-13T08:13:06.945Z"
   },
   {
    "duration": 1286,
    "start_time": "2023-04-13T08:13:11.926Z"
   },
   {
    "duration": 18,
    "start_time": "2023-04-13T08:14:02.777Z"
   },
   {
    "duration": 14,
    "start_time": "2023-04-13T08:14:27.432Z"
   },
   {
    "duration": 1138,
    "start_time": "2023-04-13T08:14:30.656Z"
   },
   {
    "duration": 1282,
    "start_time": "2023-04-13T08:14:36.330Z"
   },
   {
    "duration": 2891,
    "start_time": "2023-04-13T08:14:53.155Z"
   },
   {
    "duration": 379,
    "start_time": "2023-04-13T08:15:49.018Z"
   },
   {
    "duration": 1292,
    "start_time": "2023-04-13T08:15:59.148Z"
   },
   {
    "duration": 302,
    "start_time": "2023-04-13T08:16:43.720Z"
   },
   {
    "duration": 7372,
    "start_time": "2023-04-13T08:16:54.824Z"
   },
   {
    "duration": 29185,
    "start_time": "2023-04-13T08:17:06.564Z"
   },
   {
    "duration": 29830,
    "start_time": "2023-04-13T08:18:31.933Z"
   },
   {
    "duration": 28469,
    "start_time": "2023-04-13T08:19:05.254Z"
   },
   {
    "duration": 253,
    "start_time": "2023-04-13T08:21:00.386Z"
   },
   {
    "duration": 28108,
    "start_time": "2023-04-13T08:21:03.876Z"
   },
   {
    "duration": 238,
    "start_time": "2023-04-13T08:22:11.609Z"
   },
   {
    "duration": 367,
    "start_time": "2023-04-13T08:23:27.333Z"
   },
   {
    "duration": 264,
    "start_time": "2023-04-13T08:23:42.953Z"
   },
   {
    "duration": 26,
    "start_time": "2023-04-13T08:24:06.909Z"
   },
   {
    "duration": 229,
    "start_time": "2023-04-13T08:24:10.005Z"
   },
   {
    "duration": 26,
    "start_time": "2023-04-13T08:24:32.179Z"
   },
   {
    "duration": 125,
    "start_time": "2023-04-13T08:24:38.333Z"
   },
   {
    "duration": 121,
    "start_time": "2023-04-13T08:25:06.209Z"
   },
   {
    "duration": 110,
    "start_time": "2023-04-13T08:25:22.862Z"
   },
   {
    "duration": 1470,
    "start_time": "2023-04-13T08:25:30.117Z"
   },
   {
    "duration": 33,
    "start_time": "2023-04-13T08:25:31.590Z"
   },
   {
    "duration": 25,
    "start_time": "2023-04-13T08:25:31.625Z"
   },
   {
    "duration": 29,
    "start_time": "2023-04-13T08:25:31.651Z"
   },
   {
    "duration": 29,
    "start_time": "2023-04-13T08:25:31.683Z"
   },
   {
    "duration": 37,
    "start_time": "2023-04-13T08:25:31.715Z"
   },
   {
    "duration": 72,
    "start_time": "2023-04-13T08:25:31.755Z"
   },
   {
    "duration": 50,
    "start_time": "2023-04-13T08:25:31.829Z"
   },
   {
    "duration": 30,
    "start_time": "2023-04-13T08:25:31.882Z"
   },
   {
    "duration": 42,
    "start_time": "2023-04-13T08:25:31.914Z"
   },
   {
    "duration": 257,
    "start_time": "2023-04-13T08:25:31.958Z"
   },
   {
    "duration": 144,
    "start_time": "2023-04-13T08:25:32.217Z"
   },
   {
    "duration": 82,
    "start_time": "2023-04-13T08:25:41.403Z"
   },
   {
    "duration": 266,
    "start_time": "2023-04-13T08:26:18.316Z"
   },
   {
    "duration": 225,
    "start_time": "2023-04-13T08:26:42.213Z"
   },
   {
    "duration": 246,
    "start_time": "2023-04-13T08:28:15.612Z"
   },
   {
    "duration": 273,
    "start_time": "2023-04-13T08:28:27.177Z"
   },
   {
    "duration": 227,
    "start_time": "2023-04-13T08:28:55.272Z"
   },
   {
    "duration": 231,
    "start_time": "2023-04-13T08:28:59.914Z"
   },
   {
    "duration": 96,
    "start_time": "2023-04-13T08:29:32.730Z"
   },
   {
    "duration": 80,
    "start_time": "2023-04-13T08:29:37.343Z"
   },
   {
    "duration": 100,
    "start_time": "2023-04-13T08:29:40.846Z"
   },
   {
    "duration": 90,
    "start_time": "2023-04-13T08:30:35.748Z"
   },
   {
    "duration": 55,
    "start_time": "2023-04-13T11:06:42.183Z"
   },
   {
    "duration": 1444,
    "start_time": "2023-04-13T11:06:48.795Z"
   },
   {
    "duration": 129,
    "start_time": "2023-04-13T11:06:50.241Z"
   },
   {
    "duration": 18,
    "start_time": "2023-04-13T11:06:50.372Z"
   },
   {
    "duration": 11,
    "start_time": "2023-04-13T11:06:50.392Z"
   },
   {
    "duration": 8,
    "start_time": "2023-04-13T11:06:50.406Z"
   },
   {
    "duration": 39,
    "start_time": "2023-04-13T11:06:50.415Z"
   },
   {
    "duration": 12,
    "start_time": "2023-04-13T11:06:50.456Z"
   },
   {
    "duration": 7,
    "start_time": "2023-04-13T11:06:50.469Z"
   },
   {
    "duration": 10,
    "start_time": "2023-04-13T11:06:50.477Z"
   },
   {
    "duration": 7,
    "start_time": "2023-04-13T11:06:50.489Z"
   },
   {
    "duration": 228,
    "start_time": "2023-04-13T11:06:50.498Z"
   },
   {
    "duration": 77,
    "start_time": "2023-04-13T11:06:50.728Z"
   },
   {
    "duration": 122,
    "start_time": "2023-04-13T11:10:44.753Z"
   },
   {
    "duration": 2218,
    "start_time": "2023-04-13T11:10:56.638Z"
   },
   {
    "duration": 2166,
    "start_time": "2023-04-13T11:11:15.694Z"
   },
   {
    "duration": 2134,
    "start_time": "2023-04-13T11:13:02.237Z"
   },
   {
    "duration": 2230,
    "start_time": "2023-04-13T11:13:46.114Z"
   },
   {
    "duration": 5374,
    "start_time": "2023-04-13T11:13:52.178Z"
   },
   {
    "duration": 18613,
    "start_time": "2023-04-13T11:15:05.751Z"
   },
   {
    "duration": 1266,
    "start_time": "2023-04-13T11:21:54.747Z"
   },
   {
    "duration": 33,
    "start_time": "2023-04-13T11:21:56.015Z"
   },
   {
    "duration": 20,
    "start_time": "2023-04-13T11:21:56.050Z"
   },
   {
    "duration": 12,
    "start_time": "2023-04-13T11:21:56.073Z"
   },
   {
    "duration": 7,
    "start_time": "2023-04-13T11:21:56.087Z"
   },
   {
    "duration": 8,
    "start_time": "2023-04-13T11:21:56.096Z"
   },
   {
    "duration": 26,
    "start_time": "2023-04-13T11:21:56.105Z"
   },
   {
    "duration": 10,
    "start_time": "2023-04-13T11:21:56.132Z"
   },
   {
    "duration": 7,
    "start_time": "2023-04-13T11:21:56.143Z"
   },
   {
    "duration": 6,
    "start_time": "2023-04-13T11:21:56.152Z"
   },
   {
    "duration": 237,
    "start_time": "2023-04-13T11:21:56.160Z"
   },
   {
    "duration": 18428,
    "start_time": "2023-04-13T11:21:56.399Z"
   },
   {
    "duration": 17749,
    "start_time": "2023-04-13T11:30:49.262Z"
   },
   {
    "duration": 130,
    "start_time": "2023-04-13T11:35:06.507Z"
   },
   {
    "duration": 1316,
    "start_time": "2023-04-13T11:35:23.936Z"
   },
   {
    "duration": 32,
    "start_time": "2023-04-13T11:35:25.254Z"
   },
   {
    "duration": 19,
    "start_time": "2023-04-13T11:35:25.288Z"
   },
   {
    "duration": 25,
    "start_time": "2023-04-13T11:35:25.309Z"
   },
   {
    "duration": 8,
    "start_time": "2023-04-13T11:35:25.337Z"
   },
   {
    "duration": 17,
    "start_time": "2023-04-13T11:35:25.347Z"
   },
   {
    "duration": 15,
    "start_time": "2023-04-13T11:35:25.366Z"
   },
   {
    "duration": 12,
    "start_time": "2023-04-13T11:35:25.384Z"
   },
   {
    "duration": 12,
    "start_time": "2023-04-13T11:35:25.398Z"
   },
   {
    "duration": 9,
    "start_time": "2023-04-13T11:35:25.412Z"
   },
   {
    "duration": 233,
    "start_time": "2023-04-13T11:35:25.423Z"
   },
   {
    "duration": 19596,
    "start_time": "2023-04-13T11:35:25.658Z"
   },
   {
    "duration": 668,
    "start_time": "2023-04-13T11:35:45.255Z"
   },
   {
    "duration": 280,
    "start_time": "2023-04-13T11:36:04.055Z"
   },
   {
    "duration": 217,
    "start_time": "2023-04-13T11:36:37.917Z"
   },
   {
    "duration": 287,
    "start_time": "2023-04-13T11:36:57.453Z"
   },
   {
    "duration": 73,
    "start_time": "2023-04-13T11:46:04.772Z"
   },
   {
    "duration": 75,
    "start_time": "2023-04-13T11:46:55.435Z"
   },
   {
    "duration": 75,
    "start_time": "2023-04-13T11:48:43.419Z"
   },
   {
    "duration": 72,
    "start_time": "2023-04-13T11:49:05.122Z"
   },
   {
    "duration": 1290,
    "start_time": "2023-04-13T11:49:11.226Z"
   },
   {
    "duration": 32,
    "start_time": "2023-04-13T11:49:12.518Z"
   },
   {
    "duration": 21,
    "start_time": "2023-04-13T11:49:12.552Z"
   },
   {
    "duration": 14,
    "start_time": "2023-04-13T11:49:12.576Z"
   },
   {
    "duration": 4,
    "start_time": "2023-04-13T11:49:12.591Z"
   },
   {
    "duration": 11,
    "start_time": "2023-04-13T11:49:12.597Z"
   },
   {
    "duration": 5,
    "start_time": "2023-04-13T11:49:12.609Z"
   },
   {
    "duration": 24,
    "start_time": "2023-04-13T11:49:12.615Z"
   },
   {
    "duration": 7,
    "start_time": "2023-04-13T11:49:12.640Z"
   },
   {
    "duration": 6,
    "start_time": "2023-04-13T11:49:12.649Z"
   },
   {
    "duration": 241,
    "start_time": "2023-04-13T11:49:12.657Z"
   },
   {
    "duration": 18675,
    "start_time": "2023-04-13T11:49:12.900Z"
   },
   {
    "duration": 258,
    "start_time": "2023-04-13T11:49:31.577Z"
   },
   {
    "duration": 165,
    "start_time": "2023-04-13T11:49:31.838Z"
   },
   {
    "duration": 3,
    "start_time": "2023-04-13T11:49:32.005Z"
   },
   {
    "duration": 5,
    "start_time": "2023-04-13T11:51:02.702Z"
   },
   {
    "duration": 63,
    "start_time": "2023-04-13T17:36:04.497Z"
   },
   {
    "duration": 1072,
    "start_time": "2023-04-13T17:36:11.897Z"
   },
   {
    "duration": 119,
    "start_time": "2023-04-13T17:36:12.970Z"
   },
   {
    "duration": 14,
    "start_time": "2023-04-13T17:36:13.091Z"
   },
   {
    "duration": 10,
    "start_time": "2023-04-13T17:36:13.107Z"
   },
   {
    "duration": 20,
    "start_time": "2023-04-13T17:36:13.118Z"
   },
   {
    "duration": 17,
    "start_time": "2023-04-13T17:36:13.139Z"
   },
   {
    "duration": 8,
    "start_time": "2023-04-13T17:36:13.158Z"
   },
   {
    "duration": 16,
    "start_time": "2023-04-13T17:36:13.167Z"
   },
   {
    "duration": 9,
    "start_time": "2023-04-13T17:36:13.184Z"
   },
   {
    "duration": 7,
    "start_time": "2023-04-13T17:36:13.195Z"
   },
   {
    "duration": 200,
    "start_time": "2023-04-13T17:36:13.204Z"
   },
   {
    "duration": 15825,
    "start_time": "2023-04-13T17:36:13.405Z"
   },
   {
    "duration": 1509,
    "start_time": "2023-04-13T17:36:29.234Z"
   },
   {
    "duration": 152,
    "start_time": "2023-04-13T17:36:30.754Z"
   },
   {
    "duration": 140,
    "start_time": "2023-04-13T17:36:30.908Z"
   },
   {
    "duration": 4,
    "start_time": "2023-04-13T17:36:37.660Z"
   },
   {
    "duration": 11,
    "start_time": "2023-04-13T18:04:37.201Z"
   },
   {
    "duration": 1257,
    "start_time": "2023-04-13T18:04:53.074Z"
   },
   {
    "duration": 47,
    "start_time": "2023-04-13T18:04:54.333Z"
   },
   {
    "duration": 16,
    "start_time": "2023-04-13T18:04:54.381Z"
   },
   {
    "duration": 24,
    "start_time": "2023-04-13T18:04:54.400Z"
   },
   {
    "duration": 54,
    "start_time": "2023-04-13T18:04:54.426Z"
   },
   {
    "duration": 36,
    "start_time": "2023-04-13T18:04:54.483Z"
   },
   {
    "duration": 52,
    "start_time": "2023-04-13T18:04:54.521Z"
   },
   {
    "duration": 51,
    "start_time": "2023-04-13T18:04:54.574Z"
   },
   {
    "duration": 34,
    "start_time": "2023-04-13T18:04:54.627Z"
   },
   {
    "duration": 23,
    "start_time": "2023-04-13T18:04:54.665Z"
   },
   {
    "duration": 286,
    "start_time": "2023-04-13T18:04:54.690Z"
   },
   {
    "duration": 19069,
    "start_time": "2023-04-13T18:04:54.979Z"
   },
   {
    "duration": 504,
    "start_time": "2023-04-13T18:05:14.050Z"
   },
   {
    "duration": 174,
    "start_time": "2023-04-13T18:05:14.558Z"
   },
   {
    "duration": 10,
    "start_time": "2023-04-13T18:05:14.735Z"
   },
   {
    "duration": 46,
    "start_time": "2023-04-13T18:05:14.747Z"
   },
   {
    "duration": 106,
    "start_time": "2023-04-13T18:14:26.732Z"
   },
   {
    "duration": 14,
    "start_time": "2023-04-13T18:14:31.732Z"
   },
   {
    "duration": 5,
    "start_time": "2023-04-13T18:14:39.365Z"
   },
   {
    "duration": 10,
    "start_time": "2023-04-13T18:17:18.526Z"
   },
   {
    "duration": 1133,
    "start_time": "2023-04-13T18:17:23.525Z"
   },
   {
    "duration": 29,
    "start_time": "2023-04-13T18:17:24.661Z"
   },
   {
    "duration": 22,
    "start_time": "2023-04-13T18:17:24.692Z"
   },
   {
    "duration": 13,
    "start_time": "2023-04-13T18:17:24.718Z"
   },
   {
    "duration": 11,
    "start_time": "2023-04-13T18:17:24.734Z"
   },
   {
    "duration": 17,
    "start_time": "2023-04-13T18:17:24.746Z"
   },
   {
    "duration": 5,
    "start_time": "2023-04-13T18:17:24.765Z"
   },
   {
    "duration": 10,
    "start_time": "2023-04-13T18:17:24.771Z"
   },
   {
    "duration": 8,
    "start_time": "2023-04-13T18:17:24.783Z"
   },
   {
    "duration": 7,
    "start_time": "2023-04-13T18:17:24.794Z"
   },
   {
    "duration": 191,
    "start_time": "2023-04-13T18:17:24.803Z"
   },
   {
    "duration": 15638,
    "start_time": "2023-04-13T18:17:24.996Z"
   },
   {
    "duration": 200,
    "start_time": "2023-04-13T18:17:40.636Z"
   },
   {
    "duration": 150,
    "start_time": "2023-04-13T18:17:40.845Z"
   },
   {
    "duration": 5,
    "start_time": "2023-04-13T18:17:40.996Z"
   },
   {
    "duration": 121,
    "start_time": "2023-04-13T18:17:41.002Z"
   },
   {
    "duration": 10,
    "start_time": "2023-04-13T18:17:50.109Z"
   },
   {
    "duration": 1039,
    "start_time": "2023-04-13T18:18:20.850Z"
   },
   {
    "duration": 28,
    "start_time": "2023-04-13T18:18:21.891Z"
   },
   {
    "duration": 16,
    "start_time": "2023-04-13T18:18:21.921Z"
   },
   {
    "duration": 10,
    "start_time": "2023-04-13T18:18:21.938Z"
   },
   {
    "duration": 3,
    "start_time": "2023-04-13T18:18:21.950Z"
   },
   {
    "duration": 9,
    "start_time": "2023-04-13T18:18:21.955Z"
   },
   {
    "duration": 5,
    "start_time": "2023-04-13T18:18:21.965Z"
   },
   {
    "duration": 7,
    "start_time": "2023-04-13T18:18:21.971Z"
   },
   {
    "duration": 7,
    "start_time": "2023-04-13T18:18:21.979Z"
   },
   {
    "duration": 7,
    "start_time": "2023-04-13T18:18:21.988Z"
   },
   {
    "duration": 197,
    "start_time": "2023-04-13T18:18:21.997Z"
   },
   {
    "duration": 15661,
    "start_time": "2023-04-13T18:18:22.196Z"
   },
   {
    "duration": 480,
    "start_time": "2023-04-13T18:18:37.859Z"
   },
   {
    "duration": 146,
    "start_time": "2023-04-13T18:18:38.342Z"
   },
   {
    "duration": 4,
    "start_time": "2023-04-13T18:18:38.490Z"
   },
   {
    "duration": 21,
    "start_time": "2023-04-13T18:18:38.496Z"
   },
   {
    "duration": 10,
    "start_time": "2023-04-13T18:24:21.934Z"
   },
   {
    "duration": 95,
    "start_time": "2023-04-13T18:25:34.054Z"
   },
   {
    "duration": 12,
    "start_time": "2023-04-13T18:25:40.678Z"
   },
   {
    "duration": 13,
    "start_time": "2023-04-13T18:26:23.653Z"
   },
   {
    "duration": 12,
    "start_time": "2023-04-13T18:27:38.567Z"
   },
   {
    "duration": 5,
    "start_time": "2023-04-13T18:27:50.431Z"
   },
   {
    "duration": 5,
    "start_time": "2023-04-13T18:27:56.069Z"
   },
   {
    "duration": 4,
    "start_time": "2023-04-13T18:28:00.822Z"
   },
   {
    "duration": 5,
    "start_time": "2023-04-13T18:28:14.815Z"
   },
   {
    "duration": 6,
    "start_time": "2023-04-13T18:31:52.039Z"
   },
   {
    "duration": 5,
    "start_time": "2023-04-13T18:32:00.084Z"
   },
   {
    "duration": 5,
    "start_time": "2023-04-13T18:32:17.680Z"
   },
   {
    "duration": 5,
    "start_time": "2023-04-13T18:32:23.744Z"
   },
   {
    "duration": 5,
    "start_time": "2023-04-13T18:32:28.128Z"
   },
   {
    "duration": 6,
    "start_time": "2023-04-13T18:34:58.216Z"
   },
   {
    "duration": 5,
    "start_time": "2023-04-13T18:35:03.256Z"
   },
   {
    "duration": 7,
    "start_time": "2023-04-13T18:36:20.561Z"
   },
   {
    "duration": 5,
    "start_time": "2023-04-13T18:36:30.292Z"
   },
   {
    "duration": 4,
    "start_time": "2023-04-13T18:36:40.146Z"
   },
   {
    "duration": 4,
    "start_time": "2023-04-13T18:37:17.249Z"
   },
   {
    "duration": 4,
    "start_time": "2023-04-13T18:37:21.241Z"
   },
   {
    "duration": 5,
    "start_time": "2023-04-13T18:37:26.513Z"
   },
   {
    "duration": 4,
    "start_time": "2023-04-13T18:38:35.499Z"
   },
   {
    "duration": 5,
    "start_time": "2023-04-13T18:38:43.323Z"
   },
   {
    "duration": 5,
    "start_time": "2023-04-13T18:43:27.008Z"
   },
   {
    "duration": 5,
    "start_time": "2023-04-13T18:43:32.426Z"
   },
   {
    "duration": 1003,
    "start_time": "2023-04-13T18:43:36.680Z"
   },
   {
    "duration": 28,
    "start_time": "2023-04-13T18:43:37.685Z"
   },
   {
    "duration": 14,
    "start_time": "2023-04-13T18:43:37.714Z"
   },
   {
    "duration": 14,
    "start_time": "2023-04-13T18:43:37.729Z"
   },
   {
    "duration": 54,
    "start_time": "2023-04-13T18:43:37.745Z"
   },
   {
    "duration": 19,
    "start_time": "2023-04-13T18:43:37.800Z"
   },
   {
    "duration": 14,
    "start_time": "2023-04-13T18:43:37.820Z"
   },
   {
    "duration": 25,
    "start_time": "2023-04-13T18:43:37.835Z"
   },
   {
    "duration": 14,
    "start_time": "2023-04-13T18:43:37.862Z"
   },
   {
    "duration": 9,
    "start_time": "2023-04-13T18:43:37.877Z"
   },
   {
    "duration": 186,
    "start_time": "2023-04-13T18:43:37.887Z"
   },
   {
    "duration": 15219,
    "start_time": "2023-04-13T18:43:38.075Z"
   },
   {
    "duration": 241,
    "start_time": "2023-04-13T18:43:53.296Z"
   },
   {
    "duration": 154,
    "start_time": "2023-04-13T18:43:53.540Z"
   },
   {
    "duration": 4,
    "start_time": "2023-04-13T18:43:53.695Z"
   },
   {
    "duration": 8,
    "start_time": "2023-04-13T18:43:53.700Z"
   },
   {
    "duration": 6,
    "start_time": "2023-04-13T18:43:53.709Z"
   },
   {
    "duration": 4,
    "start_time": "2023-04-13T18:52:44.548Z"
   },
   {
    "duration": 5,
    "start_time": "2023-04-13T18:52:55.372Z"
   },
   {
    "duration": 5,
    "start_time": "2023-04-13T18:53:00.665Z"
   },
   {
    "duration": 5,
    "start_time": "2023-04-13T18:58:30.374Z"
   },
   {
    "duration": 6,
    "start_time": "2023-04-13T18:58:50.599Z"
   },
   {
    "duration": 5,
    "start_time": "2023-04-13T19:01:35.078Z"
   },
   {
    "duration": 5,
    "start_time": "2023-04-13T19:03:39.551Z"
   },
   {
    "duration": 6,
    "start_time": "2023-04-13T19:03:47.879Z"
   },
   {
    "duration": 5,
    "start_time": "2023-04-13T19:03:52.007Z"
   },
   {
    "duration": 5,
    "start_time": "2023-04-13T19:03:57.504Z"
   },
   {
    "duration": 1014,
    "start_time": "2023-04-13T19:06:22.086Z"
   },
   {
    "duration": 28,
    "start_time": "2023-04-13T19:06:23.102Z"
   },
   {
    "duration": 14,
    "start_time": "2023-04-13T19:06:23.131Z"
   },
   {
    "duration": 9,
    "start_time": "2023-04-13T19:06:23.147Z"
   },
   {
    "duration": 6,
    "start_time": "2023-04-13T19:06:23.157Z"
   },
   {
    "duration": 12,
    "start_time": "2023-04-13T19:06:23.164Z"
   },
   {
    "duration": 5,
    "start_time": "2023-04-13T19:06:23.177Z"
   },
   {
    "duration": 11,
    "start_time": "2023-04-13T19:06:23.183Z"
   },
   {
    "duration": 9,
    "start_time": "2023-04-13T19:06:23.196Z"
   },
   {
    "duration": 13,
    "start_time": "2023-04-13T19:06:23.208Z"
   },
   {
    "duration": 198,
    "start_time": "2023-04-13T19:06:23.222Z"
   },
   {
    "duration": 15622,
    "start_time": "2023-04-13T19:06:23.422Z"
   },
   {
    "duration": 295,
    "start_time": "2023-04-13T19:06:39.045Z"
   },
   {
    "duration": 147,
    "start_time": "2023-04-13T19:06:39.343Z"
   },
   {
    "duration": 5,
    "start_time": "2023-04-13T19:06:39.492Z"
   },
   {
    "duration": 8,
    "start_time": "2023-04-13T19:06:39.498Z"
   },
   {
    "duration": 27,
    "start_time": "2023-04-13T19:06:39.508Z"
   },
   {
    "duration": 1072,
    "start_time": "2023-04-13T19:11:15.746Z"
   },
   {
    "duration": 29,
    "start_time": "2023-04-13T19:11:16.820Z"
   },
   {
    "duration": 16,
    "start_time": "2023-04-13T19:11:16.851Z"
   },
   {
    "duration": 12,
    "start_time": "2023-04-13T19:11:16.869Z"
   },
   {
    "duration": 11,
    "start_time": "2023-04-13T19:11:16.882Z"
   },
   {
    "duration": 15,
    "start_time": "2023-04-13T19:11:16.895Z"
   },
   {
    "duration": 10,
    "start_time": "2023-04-13T19:11:16.911Z"
   },
   {
    "duration": 9,
    "start_time": "2023-04-13T19:11:16.923Z"
   },
   {
    "duration": 7,
    "start_time": "2023-04-13T19:11:16.933Z"
   },
   {
    "duration": 20,
    "start_time": "2023-04-13T19:11:16.943Z"
   },
   {
    "duration": 184,
    "start_time": "2023-04-13T19:11:16.965Z"
   },
   {
    "duration": 15207,
    "start_time": "2023-04-13T19:11:17.150Z"
   },
   {
    "duration": 187,
    "start_time": "2023-04-13T19:11:32.359Z"
   },
   {
    "duration": 170,
    "start_time": "2023-04-13T19:11:32.635Z"
   },
   {
    "duration": 3,
    "start_time": "2023-04-13T19:11:32.807Z"
   },
   {
    "duration": 10,
    "start_time": "2023-04-13T19:11:32.812Z"
   },
   {
    "duration": 8,
    "start_time": "2023-04-13T19:11:32.823Z"
   },
   {
    "duration": 49,
    "start_time": "2023-04-14T04:03:15.411Z"
   },
   {
    "duration": 1139,
    "start_time": "2023-04-14T04:03:20.852Z"
   },
   {
    "duration": 60,
    "start_time": "2023-04-14T04:03:21.994Z"
   },
   {
    "duration": 18,
    "start_time": "2023-04-14T04:03:22.055Z"
   },
   {
    "duration": 11,
    "start_time": "2023-04-14T04:03:22.074Z"
   },
   {
    "duration": 8,
    "start_time": "2023-04-14T04:03:22.087Z"
   },
   {
    "duration": 7,
    "start_time": "2023-04-14T04:03:22.096Z"
   },
   {
    "duration": 6,
    "start_time": "2023-04-14T04:03:22.104Z"
   },
   {
    "duration": 6,
    "start_time": "2023-04-14T04:03:22.111Z"
   },
   {
    "duration": 7,
    "start_time": "2023-04-14T04:03:22.118Z"
   },
   {
    "duration": 6,
    "start_time": "2023-04-14T04:03:22.127Z"
   },
   {
    "duration": 455,
    "start_time": "2023-04-14T04:03:22.135Z"
   },
   {
    "duration": 16913,
    "start_time": "2023-04-14T04:03:22.592Z"
   },
   {
    "duration": 189,
    "start_time": "2023-04-14T04:03:39.507Z"
   },
   {
    "duration": 238,
    "start_time": "2023-04-14T04:03:39.699Z"
   },
   {
    "duration": 5,
    "start_time": "2023-04-14T04:03:39.938Z"
   },
   {
    "duration": 28,
    "start_time": "2023-04-14T04:03:39.945Z"
   },
   {
    "duration": 20,
    "start_time": "2023-04-14T04:03:39.974Z"
   },
   {
    "duration": 431,
    "start_time": "2023-04-14T04:08:59.489Z"
   },
   {
    "duration": 425,
    "start_time": "2023-04-14T04:10:29.382Z"
   },
   {
    "duration": 7339,
    "start_time": "2023-04-14T04:16:14.589Z"
   },
   {
    "duration": 7730,
    "start_time": "2023-04-14T04:16:56.702Z"
   },
   {
    "duration": 17773,
    "start_time": "2023-04-14T04:17:13.951Z"
   },
   {
    "duration": 3819,
    "start_time": "2023-04-14T04:17:40.726Z"
   },
   {
    "duration": 1597,
    "start_time": "2023-04-14T04:18:05.469Z"
   },
   {
    "duration": 4081,
    "start_time": "2023-04-14T04:18:11.201Z"
   },
   {
    "duration": 16614,
    "start_time": "2023-04-14T04:21:49.410Z"
   },
   {
    "duration": 543,
    "start_time": "2023-04-14T04:22:57.434Z"
   },
   {
    "duration": 133,
    "start_time": "2023-04-14T04:24:27.553Z"
   },
   {
    "duration": 4285,
    "start_time": "2023-04-14T04:25:38.017Z"
   },
   {
    "duration": 4178,
    "start_time": "2023-04-14T04:25:53.589Z"
   },
   {
    "duration": 3,
    "start_time": "2023-04-14T04:40:12.715Z"
   },
   {
    "duration": 9879,
    "start_time": "2023-04-14T04:41:43.785Z"
   },
   {
    "duration": 15494,
    "start_time": "2023-04-14T04:42:46.612Z"
   },
   {
    "duration": 15756,
    "start_time": "2023-04-14T04:43:28.707Z"
   },
   {
    "duration": 995,
    "start_time": "2023-04-14T04:45:05.704Z"
   },
   {
    "duration": 4794,
    "start_time": "2023-04-14T04:45:29.000Z"
   },
   {
    "duration": 1368,
    "start_time": "2023-04-14T04:46:48.818Z"
   },
   {
    "duration": 26,
    "start_time": "2023-04-14T04:46:50.188Z"
   },
   {
    "duration": 21,
    "start_time": "2023-04-14T04:46:50.216Z"
   },
   {
    "duration": 51,
    "start_time": "2023-04-14T04:46:50.239Z"
   },
   {
    "duration": 23,
    "start_time": "2023-04-14T04:46:50.292Z"
   },
   {
    "duration": 13,
    "start_time": "2023-04-14T04:46:50.317Z"
   },
   {
    "duration": 16,
    "start_time": "2023-04-14T04:46:50.331Z"
   },
   {
    "duration": 7,
    "start_time": "2023-04-14T04:46:50.349Z"
   },
   {
    "duration": 8,
    "start_time": "2023-04-14T04:46:50.358Z"
   },
   {
    "duration": 24,
    "start_time": "2023-04-14T04:46:50.368Z"
   },
   {
    "duration": 4943,
    "start_time": "2023-04-14T04:46:50.394Z"
   },
   {
    "duration": 16810,
    "start_time": "2023-04-14T04:46:55.339Z"
   },
   {
    "duration": 240,
    "start_time": "2023-04-14T04:47:12.151Z"
   },
   {
    "duration": 217,
    "start_time": "2023-04-14T04:47:12.394Z"
   },
   {
    "duration": 5,
    "start_time": "2023-04-14T04:47:12.612Z"
   },
   {
    "duration": 8,
    "start_time": "2023-04-14T04:47:12.619Z"
   },
   {
    "duration": 10,
    "start_time": "2023-04-14T04:47:12.628Z"
   },
   {
    "duration": 4843,
    "start_time": "2023-04-14T04:47:53.019Z"
   },
   {
    "duration": 5094,
    "start_time": "2023-04-14T04:50:43.905Z"
   },
   {
    "duration": 4883,
    "start_time": "2023-04-14T04:51:12.826Z"
   },
   {
    "duration": 116,
    "start_time": "2023-04-14T04:53:02.722Z"
   },
   {
    "duration": 20,
    "start_time": "2023-04-14T04:54:53.092Z"
   },
   {
    "duration": 17,
    "start_time": "2023-04-14T04:54:58.046Z"
   },
   {
    "duration": 17,
    "start_time": "2023-04-14T05:38:53.374Z"
   },
   {
    "duration": 18,
    "start_time": "2023-04-14T05:40:56.169Z"
   },
   {
    "duration": 18,
    "start_time": "2023-04-14T05:41:07.052Z"
   },
   {
    "duration": 18,
    "start_time": "2023-04-14T05:47:55.022Z"
   },
   {
    "duration": 1480,
    "start_time": "2023-04-14T05:48:01.555Z"
   },
   {
    "duration": 25,
    "start_time": "2023-04-14T05:48:03.037Z"
   },
   {
    "duration": 15,
    "start_time": "2023-04-14T05:48:03.064Z"
   },
   {
    "duration": 17,
    "start_time": "2023-04-14T05:48:03.080Z"
   },
   {
    "duration": 9,
    "start_time": "2023-04-14T05:48:03.099Z"
   },
   {
    "duration": 10,
    "start_time": "2023-04-14T05:48:03.110Z"
   },
   {
    "duration": 8,
    "start_time": "2023-04-14T05:48:03.121Z"
   },
   {
    "duration": 22,
    "start_time": "2023-04-14T05:48:03.131Z"
   },
   {
    "duration": 8,
    "start_time": "2023-04-14T05:48:03.156Z"
   },
   {
    "duration": 20,
    "start_time": "2023-04-14T05:48:03.166Z"
   },
   {
    "duration": 123,
    "start_time": "2023-04-14T05:48:03.188Z"
   },
   {
    "duration": 0,
    "start_time": "2023-04-14T05:48:03.313Z"
   },
   {
    "duration": 0,
    "start_time": "2023-04-14T05:48:03.314Z"
   },
   {
    "duration": 0,
    "start_time": "2023-04-14T05:48:03.316Z"
   },
   {
    "duration": 0,
    "start_time": "2023-04-14T05:48:03.317Z"
   },
   {
    "duration": 0,
    "start_time": "2023-04-14T05:48:03.318Z"
   },
   {
    "duration": 0,
    "start_time": "2023-04-14T05:48:03.319Z"
   },
   {
    "duration": 19,
    "start_time": "2023-04-14T05:48:29.583Z"
   },
   {
    "duration": 18,
    "start_time": "2023-04-14T05:49:28.010Z"
   },
   {
    "duration": 67,
    "start_time": "2023-04-14T05:50:31.537Z"
   },
   {
    "duration": 32,
    "start_time": "2023-04-14T05:50:40.279Z"
   },
   {
    "duration": 24,
    "start_time": "2023-04-14T05:50:49.515Z"
   },
   {
    "duration": 7594,
    "start_time": "2023-04-14T05:52:19.315Z"
   },
   {
    "duration": 4262,
    "start_time": "2023-04-14T06:01:46.714Z"
   },
   {
    "duration": 7513,
    "start_time": "2023-04-14T06:02:19.823Z"
   },
   {
    "duration": 24,
    "start_time": "2023-04-14T06:02:43.717Z"
   },
   {
    "duration": 82,
    "start_time": "2023-04-14T06:05:04.755Z"
   },
   {
    "duration": 104,
    "start_time": "2023-04-14T06:05:10.315Z"
   },
   {
    "duration": 133,
    "start_time": "2023-04-14T06:05:18.116Z"
   },
   {
    "duration": 104,
    "start_time": "2023-04-14T06:05:24.825Z"
   },
   {
    "duration": 92,
    "start_time": "2023-04-14T06:05:29.530Z"
   },
   {
    "duration": 79,
    "start_time": "2023-04-14T06:05:39.750Z"
   },
   {
    "duration": 23,
    "start_time": "2023-04-14T06:05:48.597Z"
   },
   {
    "duration": 4861,
    "start_time": "2023-04-14T06:06:03.850Z"
   },
   {
    "duration": 5246,
    "start_time": "2023-04-14T06:06:17.450Z"
   },
   {
    "duration": 22,
    "start_time": "2023-04-14T06:07:23.226Z"
   },
   {
    "duration": 7738,
    "start_time": "2023-04-14T06:07:37.913Z"
   },
   {
    "duration": 21,
    "start_time": "2023-04-14T06:09:40.737Z"
   },
   {
    "duration": 23,
    "start_time": "2023-04-14T06:19:50.408Z"
   },
   {
    "duration": 23,
    "start_time": "2023-04-14T06:20:21.439Z"
   },
   {
    "duration": 22,
    "start_time": "2023-04-14T06:20:32.147Z"
   },
   {
    "duration": 1005,
    "start_time": "2023-04-14T06:23:09.609Z"
   },
   {
    "duration": 926,
    "start_time": "2023-04-14T06:23:33.528Z"
   },
   {
    "duration": 885,
    "start_time": "2023-04-14T06:23:50.010Z"
   },
   {
    "duration": 4921,
    "start_time": "2023-04-14T06:24:12.410Z"
   },
   {
    "duration": 5884,
    "start_time": "2023-04-14T06:24:30.914Z"
   },
   {
    "duration": 5272,
    "start_time": "2023-04-14T06:25:40.079Z"
   },
   {
    "duration": 5302,
    "start_time": "2023-04-14T06:27:08.315Z"
   },
   {
    "duration": 5443,
    "start_time": "2023-04-14T06:28:30.622Z"
   },
   {
    "duration": 4107,
    "start_time": "2023-04-14T06:29:36.916Z"
   },
   {
    "duration": 5505,
    "start_time": "2023-04-14T06:30:32.212Z"
   },
   {
    "duration": 918,
    "start_time": "2023-04-14T06:31:09.180Z"
   },
   {
    "duration": 908,
    "start_time": "2023-04-14T06:31:19.619Z"
   },
   {
    "duration": 891,
    "start_time": "2023-04-14T06:32:52.519Z"
   },
   {
    "duration": 5237,
    "start_time": "2023-04-14T06:32:58.629Z"
   },
   {
    "duration": 18,
    "start_time": "2023-04-14T06:33:20.215Z"
   },
   {
    "duration": 5618,
    "start_time": "2023-04-14T06:33:25.979Z"
   },
   {
    "duration": 909,
    "start_time": "2023-04-14T06:33:33.810Z"
   },
   {
    "duration": 12186,
    "start_time": "2023-04-14T06:34:01.330Z"
   },
   {
    "duration": 11281,
    "start_time": "2023-04-14T06:34:15.621Z"
   },
   {
    "duration": 28,
    "start_time": "2023-04-14T06:34:54.519Z"
   },
   {
    "duration": 29,
    "start_time": "2023-04-14T06:35:06.309Z"
   },
   {
    "duration": 4246,
    "start_time": "2023-04-14T06:35:30.336Z"
   },
   {
    "duration": 354098,
    "start_time": "2023-04-14T06:43:13.831Z"
   },
   {
    "duration": 94,
    "start_time": "2023-04-14T06:50:48.805Z"
   },
   {
    "duration": 65,
    "start_time": "2023-04-14T06:50:50.917Z"
   },
   {
    "duration": 4,
    "start_time": "2023-04-14T06:50:51.438Z"
   },
   {
    "duration": 6,
    "start_time": "2023-04-14T06:50:53.105Z"
   },
   {
    "duration": 5,
    "start_time": "2023-04-14T06:50:53.348Z"
   },
   {
    "duration": 58,
    "start_time": "2023-04-14T10:05:03.891Z"
   },
   {
    "duration": 1541,
    "start_time": "2023-04-14T10:05:17.664Z"
   },
   {
    "duration": 75,
    "start_time": "2023-04-14T10:05:24.849Z"
   },
   {
    "duration": 1418,
    "start_time": "2023-04-14T10:05:39.570Z"
   },
   {
    "duration": 62,
    "start_time": "2023-04-14T10:05:40.990Z"
   },
   {
    "duration": 15,
    "start_time": "2023-04-14T10:05:41.053Z"
   },
   {
    "duration": 11,
    "start_time": "2023-04-14T10:05:41.070Z"
   },
   {
    "duration": 9,
    "start_time": "2023-04-14T10:05:41.082Z"
   },
   {
    "duration": 17,
    "start_time": "2023-04-14T10:05:41.092Z"
   },
   {
    "duration": 5,
    "start_time": "2023-04-14T10:05:41.111Z"
   },
   {
    "duration": 5,
    "start_time": "2023-04-14T10:05:41.118Z"
   },
   {
    "duration": 12,
    "start_time": "2023-04-14T10:05:41.125Z"
   },
   {
    "duration": 17,
    "start_time": "2023-04-14T10:05:41.139Z"
   },
   {
    "duration": 3963,
    "start_time": "2023-04-14T10:05:41.158Z"
   },
   {
    "duration": 346531,
    "start_time": "2023-04-14T10:05:45.123Z"
   },
   {
    "duration": 546116,
    "start_time": "2023-04-14T10:11:31.656Z"
   },
   {
    "duration": 236,
    "start_time": "2023-04-14T10:20:37.774Z"
   },
   {
    "duration": 5,
    "start_time": "2023-04-14T10:20:38.012Z"
   },
   {
    "duration": 11,
    "start_time": "2023-04-14T10:20:38.018Z"
   },
   {
    "duration": 29,
    "start_time": "2023-04-14T10:20:38.031Z"
   },
   {
    "duration": 52386,
    "start_time": "2023-04-14T10:22:21.373Z"
   },
   {
    "duration": 492,
    "start_time": "2023-04-14T10:45:33.776Z"
   },
   {
    "duration": 126,
    "start_time": "2023-04-14T11:01:11.920Z"
   },
   {
    "duration": 5,
    "start_time": "2023-04-14T11:01:17.752Z"
   },
   {
    "duration": 9,
    "start_time": "2023-04-14T11:01:24.612Z"
   },
   {
    "duration": 85,
    "start_time": "2023-04-14T11:01:45.475Z"
   },
   {
    "duration": 93,
    "start_time": "2023-04-14T11:01:50.276Z"
   },
   {
    "duration": 4,
    "start_time": "2023-04-14T11:01:54.767Z"
   },
   {
    "duration": 17,
    "start_time": "2023-04-14T11:02:01.390Z"
   },
   {
    "duration": 14,
    "start_time": "2023-04-14T11:02:18.076Z"
   },
   {
    "duration": 7,
    "start_time": "2023-04-14T11:02:26.405Z"
   },
   {
    "duration": 9,
    "start_time": "2023-04-14T11:03:34.780Z"
   },
   {
    "duration": 7,
    "start_time": "2023-04-14T11:12:05.529Z"
   },
   {
    "duration": 66,
    "start_time": "2023-04-14T11:13:42.520Z"
   },
   {
    "duration": 5,
    "start_time": "2023-04-14T11:13:48.285Z"
   },
   {
    "duration": 6,
    "start_time": "2023-04-14T11:16:58.625Z"
   },
   {
    "duration": 662,
    "start_time": "2023-04-14T11:19:30.798Z"
   },
   {
    "duration": 371,
    "start_time": "2023-04-14T11:19:53.714Z"
   },
   {
    "duration": 896,
    "start_time": "2023-04-14T11:19:57.687Z"
   },
   {
    "duration": 1624,
    "start_time": "2023-04-14T14:54:55.874Z"
   },
   {
    "duration": 115,
    "start_time": "2023-04-14T14:55:28.998Z"
   },
   {
    "duration": 4,
    "start_time": "2023-04-14T14:55:39.893Z"
   },
   {
    "duration": 63,
    "start_time": "2023-04-14T14:55:42.548Z"
   },
   {
    "duration": 5,
    "start_time": "2023-04-14T14:55:47.404Z"
   },
   {
    "duration": 6,
    "start_time": "2023-04-14T14:55:48.540Z"
   },
   {
    "duration": 5,
    "start_time": "2023-04-14T14:55:54.240Z"
   },
   {
    "duration": 4,
    "start_time": "2023-04-14T14:55:55.071Z"
   },
   {
    "duration": 4,
    "start_time": "2023-04-14T14:55:56.110Z"
   },
   {
    "duration": 12,
    "start_time": "2023-04-14T14:56:01.749Z"
   },
   {
    "duration": 10,
    "start_time": "2023-04-14T14:56:33.852Z"
   },
   {
    "duration": 1321,
    "start_time": "2023-04-14T14:56:45.445Z"
   },
   {
    "duration": 25,
    "start_time": "2023-04-14T14:56:46.768Z"
   },
   {
    "duration": 17,
    "start_time": "2023-04-14T14:56:46.795Z"
   },
   {
    "duration": 11,
    "start_time": "2023-04-14T14:56:46.814Z"
   },
   {
    "duration": 4,
    "start_time": "2023-04-14T14:56:46.826Z"
   },
   {
    "duration": 8,
    "start_time": "2023-04-14T14:56:46.831Z"
   },
   {
    "duration": 5,
    "start_time": "2023-04-14T14:56:46.840Z"
   },
   {
    "duration": 3,
    "start_time": "2023-04-14T14:56:46.846Z"
   },
   {
    "duration": 4,
    "start_time": "2023-04-14T14:56:46.851Z"
   },
   {
    "duration": 37,
    "start_time": "2023-04-14T14:56:46.857Z"
   },
   {
    "duration": 3530,
    "start_time": "2023-04-14T14:56:46.896Z"
   },
   {
    "duration": 299897,
    "start_time": "2023-04-14T14:56:50.428Z"
   },
   {
    "duration": 268,
    "start_time": "2023-04-14T15:01:50.327Z"
   },
   {
    "duration": 138,
    "start_time": "2023-04-14T15:01:50.597Z"
   },
   {
    "duration": 4,
    "start_time": "2023-04-14T15:01:50.737Z"
   },
   {
    "duration": 7,
    "start_time": "2023-04-14T15:01:50.743Z"
   },
   {
    "duration": 18,
    "start_time": "2023-04-14T15:01:50.751Z"
   },
   {
    "duration": 121,
    "start_time": "2023-04-14T15:01:50.771Z"
   },
   {
    "duration": 11,
    "start_time": "2023-04-14T15:04:27.857Z"
   },
   {
    "duration": 5,
    "start_time": "2023-04-14T15:06:00.919Z"
   },
   {
    "duration": 6,
    "start_time": "2023-04-14T15:06:13.287Z"
   },
   {
    "duration": 5,
    "start_time": "2023-04-14T15:06:26.038Z"
   },
   {
    "duration": 5,
    "start_time": "2023-04-14T15:06:46.344Z"
   },
   {
    "duration": 5,
    "start_time": "2023-04-14T15:09:47.026Z"
   },
   {
    "duration": 11,
    "start_time": "2023-04-14T15:10:06.969Z"
   },
   {
    "duration": 5,
    "start_time": "2023-04-14T15:10:13.561Z"
   },
   {
    "duration": 1876,
    "start_time": "2023-04-15T05:35:01.373Z"
   },
   {
    "duration": 123,
    "start_time": "2023-04-15T05:35:03.252Z"
   },
   {
    "duration": 14,
    "start_time": "2023-04-15T05:35:03.867Z"
   },
   {
    "duration": 18,
    "start_time": "2023-04-15T05:35:04.483Z"
   },
   {
    "duration": 4,
    "start_time": "2023-04-15T05:35:08.451Z"
   },
   {
    "duration": 7,
    "start_time": "2023-04-15T05:35:10.563Z"
   },
   {
    "duration": 4,
    "start_time": "2023-04-15T05:35:11.475Z"
   },
   {
    "duration": 4,
    "start_time": "2023-04-15T05:35:13.034Z"
   },
   {
    "duration": 1470,
    "start_time": "2023-04-15T05:35:17.655Z"
   },
   {
    "duration": 30,
    "start_time": "2023-04-15T05:35:19.127Z"
   },
   {
    "duration": 15,
    "start_time": "2023-04-15T05:35:19.159Z"
   },
   {
    "duration": 19,
    "start_time": "2023-04-15T05:35:19.176Z"
   },
   {
    "duration": 13,
    "start_time": "2023-04-15T05:35:19.197Z"
   },
   {
    "duration": 11,
    "start_time": "2023-04-15T05:35:19.212Z"
   },
   {
    "duration": 6,
    "start_time": "2023-04-15T05:35:19.225Z"
   },
   {
    "duration": 14,
    "start_time": "2023-04-15T05:35:19.232Z"
   },
   {
    "duration": 17,
    "start_time": "2023-04-15T05:35:19.247Z"
   },
   {
    "duration": 18,
    "start_time": "2023-04-15T05:35:19.266Z"
   },
   {
    "duration": 3889,
    "start_time": "2023-04-15T05:35:19.286Z"
   },
   {
    "duration": 343614,
    "start_time": "2023-04-15T05:35:23.176Z"
   },
   {
    "duration": 3996,
    "start_time": "2023-04-15T05:41:06.792Z"
   },
   {
    "duration": 174,
    "start_time": "2023-04-15T05:41:10.793Z"
   },
   {
    "duration": 14,
    "start_time": "2023-04-15T05:41:10.969Z"
   },
   {
    "duration": 11,
    "start_time": "2023-04-15T05:41:10.985Z"
   },
   {
    "duration": 9,
    "start_time": "2023-04-15T05:41:10.999Z"
   },
   {
    "duration": 11,
    "start_time": "2023-04-15T05:41:11.011Z"
   },
   {
    "duration": 6172,
    "start_time": "2023-04-15T05:59:08.801Z"
   },
   {
    "duration": 4824,
    "start_time": "2023-04-15T05:59:47.762Z"
   },
   {
    "duration": 6049,
    "start_time": "2023-04-15T06:00:11.511Z"
   },
   {
    "duration": 5344,
    "start_time": "2023-04-15T06:00:22.956Z"
   },
   {
    "duration": 6516,
    "start_time": "2023-04-15T06:02:50.242Z"
   },
   {
    "duration": 6785,
    "start_time": "2023-04-15T06:03:14.831Z"
   },
   {
    "duration": 6440,
    "start_time": "2023-04-15T06:03:40.557Z"
   },
   {
    "duration": 6421,
    "start_time": "2023-04-15T06:03:55.686Z"
   },
   {
    "duration": 5343,
    "start_time": "2023-04-15T06:05:14.301Z"
   },
   {
    "duration": 96,
    "start_time": "2023-04-15T06:07:29.766Z"
   },
   {
    "duration": 4704,
    "start_time": "2023-04-15T06:07:41.627Z"
   },
   {
    "duration": 4883,
    "start_time": "2023-04-15T06:08:10.176Z"
   },
   {
    "duration": 4364,
    "start_time": "2023-04-15T06:08:23.420Z"
   },
   {
    "duration": 4642,
    "start_time": "2023-04-15T06:08:45.722Z"
   },
   {
    "duration": 4296,
    "start_time": "2023-04-15T06:20:25.704Z"
   },
   {
    "duration": 4310,
    "start_time": "2023-04-15T06:20:41.899Z"
   },
   {
    "duration": 4383,
    "start_time": "2023-04-15T06:21:15.902Z"
   },
   {
    "duration": 4738,
    "start_time": "2023-04-15T06:21:51.004Z"
   },
   {
    "duration": 4548,
    "start_time": "2023-04-15T06:22:43.008Z"
   },
   {
    "duration": 4456,
    "start_time": "2023-04-15T06:23:07.781Z"
   },
   {
    "duration": 4375,
    "start_time": "2023-04-15T06:23:18.823Z"
   },
   {
    "duration": 11080,
    "start_time": "2023-04-15T06:24:07.223Z"
   },
   {
    "duration": 10504,
    "start_time": "2023-04-15T06:26:58.880Z"
   },
   {
    "duration": 10122,
    "start_time": "2023-04-15T06:27:21.150Z"
   },
   {
    "duration": 11063,
    "start_time": "2023-04-15T06:35:02.729Z"
   },
   {
    "duration": 4462,
    "start_time": "2023-04-15T06:36:14.505Z"
   },
   {
    "duration": 11190,
    "start_time": "2023-04-15T06:36:45.322Z"
   },
   {
    "duration": 10749,
    "start_time": "2023-04-15T06:44:37.426Z"
   },
   {
    "duration": 11,
    "start_time": "2023-04-15T06:45:01.700Z"
   },
   {
    "duration": 4,
    "start_time": "2023-04-15T06:45:05.841Z"
   },
   {
    "duration": 5392,
    "start_time": "2023-04-15T06:45:11.194Z"
   },
   {
    "duration": 5212,
    "start_time": "2023-04-15T06:45:34.992Z"
   },
   {
    "duration": 6262,
    "start_time": "2023-04-15T06:45:51.700Z"
   },
   {
    "duration": 6059,
    "start_time": "2023-04-15T06:46:13.173Z"
   },
   {
    "duration": 6017,
    "start_time": "2023-04-15T06:46:39.427Z"
   },
   {
    "duration": 6388,
    "start_time": "2023-04-15T06:46:52.266Z"
   },
   {
    "duration": 6864,
    "start_time": "2023-04-15T06:47:18.924Z"
   },
   {
    "duration": 6808,
    "start_time": "2023-04-15T06:47:37.675Z"
   },
   {
    "duration": 6574,
    "start_time": "2023-04-15T06:48:27.078Z"
   },
   {
    "duration": 5434,
    "start_time": "2023-04-15T06:48:52.516Z"
   },
   {
    "duration": 5866,
    "start_time": "2023-04-15T06:49:09.889Z"
   },
   {
    "duration": 6129,
    "start_time": "2023-04-15T06:49:35.774Z"
   },
   {
    "duration": 5881,
    "start_time": "2023-04-15T06:49:48.386Z"
   },
   {
    "duration": 336852,
    "start_time": "2023-04-15T06:51:50.708Z"
   },
   {
    "duration": 22997,
    "start_time": "2023-04-15T06:57:27.562Z"
   },
   {
    "duration": 27790,
    "start_time": "2023-04-15T06:58:28.612Z"
   },
   {
    "duration": 22625,
    "start_time": "2023-04-15T06:59:05.083Z"
   },
   {
    "duration": 1480,
    "start_time": "2023-04-15T07:00:24.406Z"
   },
   {
    "duration": 30,
    "start_time": "2023-04-15T07:00:25.888Z"
   },
   {
    "duration": 13,
    "start_time": "2023-04-15T07:00:25.920Z"
   },
   {
    "duration": 15,
    "start_time": "2023-04-15T07:00:25.935Z"
   },
   {
    "duration": 9,
    "start_time": "2023-04-15T07:00:25.952Z"
   },
   {
    "duration": 10,
    "start_time": "2023-04-15T07:00:25.962Z"
   },
   {
    "duration": 12,
    "start_time": "2023-04-15T07:00:25.974Z"
   },
   {
    "duration": 13,
    "start_time": "2023-04-15T07:00:25.988Z"
   },
   {
    "duration": 6,
    "start_time": "2023-04-15T07:00:26.003Z"
   },
   {
    "duration": 9,
    "start_time": "2023-04-15T07:00:26.011Z"
   },
   {
    "duration": 5756,
    "start_time": "2023-04-15T07:00:26.021Z"
   },
   {
    "duration": 332634,
    "start_time": "2023-04-15T07:00:31.779Z"
   },
   {
    "duration": 22881,
    "start_time": "2023-04-15T07:06:04.415Z"
   },
   {
    "duration": 102,
    "start_time": "2023-04-15T07:06:27.298Z"
   },
   {
    "duration": 247,
    "start_time": "2023-04-15T07:06:27.402Z"
   },
   {
    "duration": 6,
    "start_time": "2023-04-15T07:06:27.651Z"
   },
   {
    "duration": 30,
    "start_time": "2023-04-15T07:06:27.659Z"
   }
  ],
  "kernelspec": {
   "display_name": "Python 3 (ipykernel)",
   "language": "python",
   "name": "python3"
  },
  "language_info": {
   "codemirror_mode": {
    "name": "ipython",
    "version": 3
   },
   "file_extension": ".py",
   "mimetype": "text/x-python",
   "name": "python",
   "nbconvert_exporter": "python",
   "pygments_lexer": "ipython3",
   "version": "3.9.13"
  },
  "toc": {
   "base_numbering": 1,
   "nav_menu": {},
   "number_sections": true,
   "sideBar": true,
   "skip_h1_title": true,
   "title_cell": "Table of Contents",
   "title_sidebar": "Contents",
   "toc_cell": false,
   "toc_position": {},
   "toc_section_display": true,
   "toc_window_display": false
  }
 },
 "nbformat": 4,
 "nbformat_minor": 4
}
